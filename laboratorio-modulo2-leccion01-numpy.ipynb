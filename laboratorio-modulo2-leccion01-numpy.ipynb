{
 "cells": [
  {
   "cell_type": "markdown",
   "id": "6db588db",
   "metadata": {},
   "source": [
    "<div style=\"text-align: center;\">\n",
    "  <img src=\"https://github.com/Hack-io-Data/Imagenes/blob/main/01-LogosHackio/logo_naranja@4x.png?raw=true\" alt=\"esquema\" />\n",
    "</div>"
   ]
  },
  {
   "cell_type": "markdown",
   "id": "11308d6c",
   "metadata": {},
   "source": [
    "\n",
    "# Laboratorio de NumPy"
   ]
  },
  {
   "cell_type": "markdown",
   "id": "a19d4596",
   "metadata": {},
   "source": [
    "#### Ejercicio 1 - Crea un array de 1D con los números del 0 al 9."
   ]
  },
  {
   "cell_type": "code",
   "execution_count": 33,
   "id": "9d4e1d42",
   "metadata": {},
   "outputs": [
    {
     "data": {
      "text/plain": [
       "array([0, 1, 2, 3, 4, 5, 6, 7, 8, 9])"
      ]
     },
     "execution_count": 33,
     "metadata": {},
     "output_type": "execute_result"
    }
   ],
   "source": [
    "import numpy as np\n",
    "\n",
    "array_1d = np.arange(0,10)\n",
    "array_1d"
   ]
  },
  {
   "cell_type": "markdown",
   "id": "f4a41f16",
   "metadata": {},
   "source": [
    "#### Ejercicio 2 - Convierte un array 1D en un array 2D con 2 filas y 5 columnas."
   ]
  },
  {
   "cell_type": "code",
   "execution_count": 34,
   "id": "3d7cef3c",
   "metadata": {},
   "outputs": [
    {
     "data": {
      "text/plain": [
       "array([[0, 1, 2, 3, 4],\n",
       "       [5, 6, 7, 8, 9]])"
      ]
     },
     "execution_count": 34,
     "metadata": {},
     "output_type": "execute_result"
    }
   ],
   "source": [
    "array_2d = array_1d.reshape(2,5)\n",
    "array_2d"
   ]
  },
  {
   "cell_type": "markdown",
   "id": "86bb8999",
   "metadata": {},
   "source": [
    "#### Ejercicio 3 - Encuentra los índices de los elementos con valor distinto de 0 en el siguiente array: [0, 2, 0, 3, 0, 4, 0]."
   ]
  },
  {
   "cell_type": "code",
   "execution_count": 35,
   "id": "d1fcfca4",
   "metadata": {},
   "outputs": [
    {
     "data": {
      "text/plain": [
       "array([1, 3, 5])"
      ]
     },
     "execution_count": 35,
     "metadata": {},
     "output_type": "execute_result"
    }
   ],
   "source": [
    "array = [0, 2, 0, 3, 0, 4, 0]\n",
    "indices_valores_0 = np.nonzero(array)[0]\n",
    "indices_valores_0"
   ]
  },
  {
   "cell_type": "markdown",
   "id": "1c548419",
   "metadata": {},
   "source": [
    "#### Ejercicio 4 - Crea un array 3x3 con valores aleatorios entre 0 y 1."
   ]
  },
  {
   "cell_type": "code",
   "execution_count": 36,
   "id": "e1d4f19f",
   "metadata": {},
   "outputs": [
    {
     "data": {
      "text/plain": [
       "array([[0, 1, 0],\n",
       "       [0, 1, 1],\n",
       "       [0, 0, 0]], dtype=int32)"
      ]
     },
     "execution_count": 36,
     "metadata": {},
     "output_type": "execute_result"
    }
   ],
   "source": [
    "array3x3 = np.random.randint(0,2,(3,3))\n",
    "array3x3"
   ]
  },
  {
   "cell_type": "markdown",
   "id": "aee82811",
   "metadata": {},
   "source": [
    "#### Ejercicio 5 - Crea un array de 10 números aleatorios y encuentra el valor máximo y mínimo."
   ]
  },
  {
   "cell_type": "code",
   "execution_count": 37,
   "id": "81fea76e",
   "metadata": {},
   "outputs": [
    {
     "name": "stdout",
     "output_type": "stream",
     "text": [
      "Array 10 numeros --> [5 5 9 2 5 3 7 1 9 0]\n",
      "Valor máximo --> 9\n",
      "Valor mínimo --> 0\n"
     ]
    }
   ],
   "source": [
    "array_10numeros = np.random.randint(0,10,10)\n",
    "\n",
    "print(f\"Array 10 numeros --> {array_10numeros}\")\n",
    "print(f\"Valor máximo --> {np.max(array_10numeros)}\")\n",
    "print(f\"Valor mínimo --> {np.min(array_10numeros)}\")\n"
   ]
  },
  {
   "cell_type": "markdown",
   "id": "6559375b",
   "metadata": {},
   "source": [
    "#### Ejercicio 6 - Crea un array de una dimensión e inviértelo. "
   ]
  },
  {
   "cell_type": "code",
   "execution_count": 38,
   "id": "31385db0",
   "metadata": {},
   "outputs": [
    {
     "name": "stdout",
     "output_type": "stream",
     "text": [
      "Array original --> [4 5 7 1 7 9 9 8 9 9]\n",
      "Array invertido --> [9 9 8 9 9 7 1 7 5 4]\n"
     ]
    }
   ],
   "source": [
    "array_ejemplo = np.random.randint(0,10,10)\n",
    "print(f\"Array original --> {array_ejemplo}\")\n",
    "\n",
    "array_ejemplo_invertido = array_ejemplo[::-1]\n",
    "print(f\"Array invertido --> {array_ejemplo_invertido}\")"
   ]
  },
  {
   "cell_type": "markdown",
   "id": "4457f046",
   "metadata": {},
   "source": [
    "\n",
    "#### Ejercicio 6 - Genera un array tridimensional de dimensiones (2, 3, 4) con valores enteros del 1 al 24.\n",
    "\n",
    "- Selecciona el primer `15` del array.\n",
    "\n",
    "- Selecciona todos los elementos del primer array. \n",
    "\n",
    "- Selecciona la última fila del último array\n"
   ]
  },
  {
   "cell_type": "code",
   "execution_count": 39,
   "id": "3cab04c9",
   "metadata": {},
   "outputs": [
    {
     "name": "stdout",
     "output_type": "stream",
     "text": [
      "Array --> [[[16  8 17 14]\n",
      "  [21  7  4 20]\n",
      "  [11 21 14 15]]\n",
      "\n",
      " [[10 11  7  2]\n",
      "  [12 18  7 19]\n",
      "  [23  1 23  4]]]\n",
      "Primer 15 --> 15\n",
      "\n",
      "Todos los elementos del primer array --> [[16  8 17 14]\n",
      " [21  7  4 20]\n",
      " [11 21 14 15]]\n",
      "\n",
      "Ultima fila del array --> [[10 11  7  2]\n",
      " [12 18  7 19]\n",
      " [23  1 23  4]]\n",
      "\n"
     ]
    }
   ],
   "source": [
    "#Generar array tridimensional de dimensiones (2,3,4) con valores del 1 al 24\n",
    "array_6 = np.random.randint(1,25,(2,3,4))\n",
    "print(f\"Array --> {array_6}\")\n",
    "\n",
    "#Seleccionar el primer 15 del array  (no se si vale con la forma que lo he hecho o se buscaba hacerlo con el .where())\n",
    "primer_15 = array_6[array_6 == 15][0]\n",
    "print(f\"Primer 15 --> {primer_15}\\n\")\n",
    "\n",
    "#Seleccionar todos los elementos del primer array\n",
    "elementos_primer_array6 = array_6[0,::]\n",
    "print(f\"Todos los elementos del primer array --> {elementos_primer_array6}\\n\")\n",
    "\n",
    "#Seleccionar ultima fila del ultimo array\n",
    "ultima_fila_array6 = array_6[-1,::]\n",
    "print(f\"Ultima fila del array --> {ultima_fila_array6}\\n\")\n"
   ]
  },
  {
   "cell_type": "markdown",
   "id": "681b7e4e",
   "metadata": {},
   "source": [
    "\n",
    "#### Ejercicio 7 - Genera un array tridimensional de dimensiones (3, 2, 5) con valores enteros del 1 al 30.\n",
    "\n",
    "- Selecciona el subarray que contiene los dos primeros elementos de cada fila del primer array.\n",
    "\n",
    "- Selecciona el subarray que contiene todas las filas de los dos últimos arrays.\n"
   ]
  },
  {
   "cell_type": "code",
   "execution_count": 40,
   "id": "b008a9aa",
   "metadata": {},
   "outputs": [
    {
     "name": "stdout",
     "output_type": "stream",
     "text": [
      "Array --> [[[24 16 16  5  8]\n",
      "  [18  4 28  5 17]]\n",
      "\n",
      " [[28 13  2 22 11]\n",
      "  [28 15 10 23 19]]\n",
      "\n",
      " [[15 25  3 13 26]\n",
      "  [15 29 12 15 11]]]\n",
      "\n",
      "2 primeros elementos de cada fila del primer array --> [[24 16]\n",
      " [18  4]]\n",
      "Subarrays que contienen las filas de los 2 ultimos arrays --> [[28 13  2 22 11]\n",
      " [28 15 10 23 19]]\n"
     ]
    }
   ],
   "source": [
    "#Generamos array de 3x3x5\n",
    "array_7 = np.random.randint(1,31,(3,2,5))\n",
    "print(f\"Array --> {array_7}\\n\")\n",
    "\n",
    "#Selecciona el subarray que contiene los dos primeros elementos de cada fila del primer array.\n",
    "dos_primeros_elementos_cada_fila = array_7[0,:,:2]\n",
    "print(f\"2 primeros elementos de cada fila del primer array --> {dos_primeros_elementos_cada_fila}\")\n",
    "\n",
    "#Selecciona el subarray que contiene todas las filas de los dos últimos arrays.\n",
    "subarray = array_7[-2,:,:]#este no me queda muy claro lo que se pide\n",
    "print(f\"Subarrays que contienen las filas de los 2 ultimos arrays --> {subarray}\")"
   ]
  },
  {
   "cell_type": "markdown",
   "id": "4fabd9d0",
   "metadata": {},
   "source": [
    "#### Ejercicio 8 - Genera un array tridimensional de dimensiones (4, 3, 2) con valores enteros del 1 al 24.\n",
    "\n",
    "- Cambia todos los elementos de la segunda fila del segundo array por `0`.\n",
    "\n",
    "- Cambia todos los valores del último array a `-1`.\n"
   ]
  },
  {
   "cell_type": "code",
   "execution_count": 41,
   "id": "0ef45b69",
   "metadata": {},
   "outputs": [
    {
     "name": "stdout",
     "output_type": "stream",
     "text": [
      "[[[ 6 11]\n",
      "  [ 3  4]\n",
      "  [16 20]]\n",
      "\n",
      " [[21 11]\n",
      "  [17 21]\n",
      "  [14  4]]\n",
      "\n",
      " [[16 23]\n",
      "  [20 16]\n",
      "  [13 17]]\n",
      "\n",
      " [[17 20]\n",
      "  [23 14]\n",
      "  [ 3 14]]]\n",
      "\n",
      "Ahora modificamos todos los elementos de la segunda fila del segundo array por `0`\n",
      "[[[ 6 11]\n",
      "  [ 3  4]\n",
      "  [16 20]]\n",
      "\n",
      " [[ 0  0]\n",
      "  [ 0  0]\n",
      "  [ 0  0]]\n",
      "\n",
      " [[16 23]\n",
      "  [20 16]\n",
      "  [13 17]]\n",
      "\n",
      " [[17 20]\n",
      "  [23 14]\n",
      "  [ 3 14]]]\n",
      "\n",
      "Ahora modificamos todos los valores del último array a `-1`\n",
      "[[[ 6 11]\n",
      "  [ 3  4]\n",
      "  [16 20]]\n",
      "\n",
      " [[ 0  0]\n",
      "  [ 0  0]\n",
      "  [ 0  0]]\n",
      "\n",
      " [[16 23]\n",
      "  [20 16]\n",
      "  [13 17]]\n",
      "\n",
      " [[-1 -1]\n",
      "  [-1 -1]\n",
      "  [-1 -1]]]\n"
     ]
    }
   ],
   "source": [
    "#Generamos array de 4x3x2\n",
    "array_8 = np.random.randint(1,25,(4,3,2))\n",
    "print(array_8)\n",
    "\n",
    "#Cambia todos los elementos de la segunda fila del segundo array por `0`.\n",
    "print('\\nAhora modificamos todos los elementos de la segunda fila del segundo array por `0`')\n",
    "array_8[1,::] = 0\n",
    "print(array_8)\n",
    "\n",
    "#Cambia todos los valores del último array a `-1`.\n",
    "print('\\nAhora modificamos todos los valores del último array a `-1`')\n",
    "array_8[-1,::] = -1\n",
    "print(array_8)"
   ]
  },
  {
   "cell_type": "markdown",
   "id": "c60bc3bb",
   "metadata": {},
   "source": [
    "\n",
    "#### Ejercicio 9 - Genera un array tridimensional de dimensiones (2, 4, 3) con valores enteros del -10 al 13.\n",
    "\n",
    "- Selecciona todos los elementos mayores a `5`.\n",
    "\n",
    "- Reemplaza todos los elementos negativos por `0`.\n"
   ]
  },
  {
   "cell_type": "code",
   "execution_count": 42,
   "id": "28bf9232",
   "metadata": {},
   "outputs": [
    {
     "name": "stdout",
     "output_type": "stream",
     "text": [
      "Array --> [-10  -9  -8  -7  -6  -5  -4  -3  -2  -1   0   1   2   3   4   5   6   7\n",
      "   8   9  10  11  12  13]\n",
      "Elementos mayores a 5 --> [ 6  7  8  9 10 11 12 13]\n",
      "Array sin negativos --> [ 0  0  0  0  0  0  0  0  0  0  0  1  2  3  4  5  6  7  8  9 10 11 12 13]\n"
     ]
    }
   ],
   "source": [
    "#Generamos array de 2x4x3\n",
    "array_9 = np.arange(-10,14)\n",
    "print(f\"Array --> {array_9}\")\n",
    "\n",
    "#Selecccionamos los mayores a 5\n",
    "mayores_a_5 = array_9[array_9 > 5]\n",
    "print(f\"Elementos mayores a 5 --> {mayores_a_5}\")\n",
    "\n",
    "#Remplazamos todos los elementos negativos por 0\n",
    "array_sin_negativos = array_9.copy()\n",
    "array_sin_negativos[array_sin_negativos < 0] = 0\n",
    "print(f\"Array sin negativos --> {array_sin_negativos}\")"
   ]
  },
  {
   "cell_type": "markdown",
   "id": "ab38a3be",
   "metadata": {},
   "source": [
    "#### Ejercicio 10 - Genera un array tridimensional de dimensiones (3, 3, 3) con valores enteros del 1 al 27.\n",
    "\n",
    "- Selecciona el subarray del segundo array que contenga solo las dos primeras columnas.\n",
    "\n",
    "- Selecciona todos los elementos del tercer array que sean mayores que `20`.\n"
   ]
  },
  {
   "cell_type": "code",
   "execution_count": 43,
   "id": "78c979cf",
   "metadata": {},
   "outputs": [
    {
     "name": "stdout",
     "output_type": "stream",
     "text": [
      "Array --> [[[27  4 20]\n",
      "  [19  1 11]\n",
      "  [24 21 18]]\n",
      "\n",
      " [[ 7  6 15]\n",
      "  [11 16 26]\n",
      "  [ 4 12 20]]\n",
      "\n",
      " [[26 24 27]\n",
      "  [ 3 21  1]\n",
      "  [ 6  9 27]]]\n",
      "\n",
      "subarray --> [[ 7  6]\n",
      " [11 16]\n",
      " [ 4 12]]\n",
      "\n",
      "Elemetos del tercer array mayores a 20 --> [26 24 27 21 27]\n"
     ]
    }
   ],
   "source": [
    "#Generamos Array\n",
    "array_10 = np.random.randint(1,28,(3,3,3))\n",
    "print(f\"Array --> {array_10}\\n\")\n",
    "\n",
    "# Selecciona el subarray del segundo array que contenga solo las dos primeras columnas.\n",
    "subarray = array_10[1,:,:2]\n",
    "print(f\"subarray --> {subarray}\\n\")\n",
    "\n",
    "# Selecciona todos los elementos del tercer array que sean mayores que `20`.\n",
    "elementos = array_10[2][array_10[2] > 20]\n",
    "print(f\"Elemetos del tercer array mayores a 20 --> {elementos}\")"
   ]
  },
  {
   "cell_type": "markdown",
   "id": "f1a00156",
   "metadata": {},
   "source": [
    "#### Ejercicio 11 - Crea un array de 10 números aleatorios y reemplaza los valores máximos y mínimos por 0."
   ]
  },
  {
   "cell_type": "code",
   "execution_count": 44,
   "id": "990fa526",
   "metadata": {},
   "outputs": [
    {
     "data": {
      "text/plain": [
       "array([792, 917, 732, 642, 740, 718, 885,   0, 441,   0], dtype=int32)"
      ]
     },
     "execution_count": 44,
     "metadata": {},
     "output_type": "execute_result"
    }
   ],
   "source": [
    "array_aleatorio = np.random.randint(1,1000, 10)\n",
    "array_aleatorio[array_aleatorio == np.min(array_aleatorio)] = 0\n",
    "array_aleatorio[array_aleatorio == np.max(array_aleatorio)] = 0\n",
    "array_aleatorio"
   ]
  },
  {
   "cell_type": "markdown",
   "id": "781fafd0",
   "metadata": {},
   "source": [
    "#### Ejercicio 12 - Genera un array de 15 números aleatorios enteros entre 1 y 100 y reordénalo en orden ascendente."
   ]
  },
  {
   "cell_type": "code",
   "execution_count": 45,
   "id": "caa4fd47",
   "metadata": {},
   "outputs": [
    {
     "name": "stdout",
     "output_type": "stream",
     "text": [
      "Array deshordenado --> [ 1 62 19 65 55 87 53 71 11 67 55 43 46 11 15]\n",
      "Array ordenado --> [ 1 11 11 15 19 43 46 53 55 55 62 65 67 71 87]\n"
     ]
    }
   ],
   "source": [
    "array_12 = np.random.randint(1,101,15)\n",
    "print(f\"Array deshordenado --> {array_12}\")\n",
    "\n",
    "array12_ordenado = np.sort(array_12)\n",
    "print(f\"Array ordenado --> {array12_ordenado}\")"
   ]
  },
  {
   "cell_type": "markdown",
   "id": "45f10c3e",
   "metadata": {},
   "source": [
    "#### Ejercicio 11 - Calcula la suma de los elementos a lo largo de las filas y columnas en una matriz 4x4."
   ]
  },
  {
   "cell_type": "code",
   "execution_count": 46,
   "id": "90220788",
   "metadata": {},
   "outputs": [
    {
     "name": "stdout",
     "output_type": "stream",
     "text": [
      "[[8 8 1 2]\n",
      " [1 8 7 3]\n",
      " [3 9 4 1]\n",
      " [3 2 7 2]]\n",
      "\n",
      "Suma de filas --> [19 19 17 14]\n",
      "\n",
      "Suma de filas --> [19 19 17 14]\n"
     ]
    }
   ],
   "source": [
    "matriz = np.random.randint(1,11,(4,4))\n",
    "print(matriz)\n",
    "\n",
    "suma_filas = np.sum(matriz, axis=1)\n",
    "suma_columnas = np.sum(matriz, axis=0)\n",
    "\n",
    "print(f\"\\nSuma de filas --> {suma_filas}\\n\")\n",
    "print(f\"Suma de filas --> {suma_filas}\")"
   ]
  },
  {
   "cell_type": "markdown",
   "id": "69b9751a",
   "metadata": {},
   "source": [
    "#### Ejercicio 12 - Crea una matriz de 5x5 con valores en el borde igual a 1 y en el interior igual a 0."
   ]
  },
  {
   "cell_type": "code",
   "execution_count": 47,
   "id": "eca81323",
   "metadata": {},
   "outputs": [
    {
     "name": "stdout",
     "output_type": "stream",
     "text": [
      "[[-1. -1. -1. -1. -1.]\n",
      " [-1.  0.  0.  0. -1.]\n",
      " [-1.  0.  0.  0. -1.]\n",
      " [-1.  0.  0.  0. -1.]\n",
      " [-1. -1. -1. -1. -1.]]\n"
     ]
    }
   ],
   "source": [
    "matriz2 = np.zeros((5,5))\n",
    "matriz2[0,:] = -1\n",
    "matriz2[:,0] = -1\n",
    "matriz2[:,-1] = -1\n",
    "matriz2[-1,:] = -1\n",
    "\n",
    "print(matriz2)"
   ]
  },
  {
   "cell_type": "markdown",
   "id": "1ea8068d",
   "metadata": {},
   "source": [
    "#### Ejercicio 13 - Calcula la media y la desviación estándar de un array de 10 números aleatorios."
   ]
  },
  {
   "cell_type": "code",
   "execution_count": 48,
   "id": "05dd579d",
   "metadata": {},
   "outputs": [
    {
     "name": "stdout",
     "output_type": "stream",
     "text": [
      "Array -->  [72 30 10 72 52 80 62 79 63  5]\n",
      "Media -->  52.5\n",
      "Desviación Estandar -->  26.435771220072244\n"
     ]
    }
   ],
   "source": [
    "array13 = np.random.randint(0,101, 10)\n",
    "print(\"Array --> \",array13)\n",
    "\n",
    "print(\"Media --> \", np.mean(array13))\n",
    "print(\"Desviación Estandar --> \", np.std(array13))"
   ]
  },
  {
   "cell_type": "markdown",
   "id": "6add6669",
   "metadata": {},
   "source": [
    "#### Ejercicio 14 - Genera un array tridimensional de dimensiones (2, 3, 4) con valores enteros del 1 al 24.\n",
    "\n",
    "- Transpón el array para intercambiar los ejes de la forma (2, 3, 4) a (4, 3, 2).\n",
    "\n",
    "- Observa cómo cambian las posiciones de los elementos y sus índices después de la transposición. Explica en una celda de markdown que es lo que ha pasado. \n"
   ]
  },
  {
   "cell_type": "code",
   "execution_count": 49,
   "id": "ae98aca5",
   "metadata": {},
   "outputs": [
    {
     "name": "stdout",
     "output_type": "stream",
     "text": [
      "Array --> [[[ 4 18 18  3]\n",
      "  [13 24 12  2]\n",
      "  [22  3 10 19]]\n",
      "\n",
      " [[11  2 19  9]\n",
      "  [21 21 13  4]\n",
      "  [20  4 20 13]]]\n",
      "[[[ 4 11]\n",
      "  [13 21]\n",
      "  [22 20]]\n",
      "\n",
      " [[18  2]\n",
      "  [24 21]\n",
      "  [ 3  4]]\n",
      "\n",
      " [[18 19]\n",
      "  [12 13]\n",
      "  [10 20]]\n",
      "\n",
      " [[ 3  9]\n",
      "  [ 2  4]\n",
      "  [19 13]]]\n"
     ]
    }
   ],
   "source": [
    "#generamos array 2x3x4\n",
    "array14 = np.random.randint(1,25,(2,3,4))\n",
    "print(f\"Array --> {array14}\")\n",
    "\n",
    "#                                                           0  1  2     2  1  0\n",
    "# Transpón el array para intercambiar los ejes de la forma (2, 3, 4) a (4, 3, 2).\n",
    "array_transpuesto = np.transpose(array14, (2, 1, 0))\n",
    "print(array_transpuesto)"
   ]
  },
  {
   "cell_type": "markdown",
   "id": "d23c5876",
   "metadata": {},
   "source": [
    "Lo que ha pasado es que lo que antes eran 2 arrays con 3 filas y 4 columnas, \n",
    "ahora son 4 arrays con 3 filas y 2 columnas."
   ]
  },
  {
   "cell_type": "markdown",
   "id": "1e32b5e6",
   "metadata": {},
   "source": [
    "#### Ejercicio 15 - Genera un array tridimensional de dimensiones (3, 4, 2) con valores enteros del 1 al 24.\n",
    "\n",
    "- Transpón el array para intercambiar el primer y segundo eje, de manera que la nueva forma del array sea (4, 3, 2).\n"
   ]
  },
  {
   "cell_type": "code",
   "execution_count": 50,
   "id": "0146fdd6",
   "metadata": {},
   "outputs": [
    {
     "name": "stdout",
     "output_type": "stream",
     "text": [
      "Array -->  [[[17  7]\n",
      "  [ 4 12]\n",
      "  [24 17]\n",
      "  [ 4  5]]\n",
      "\n",
      " [[15 13]\n",
      "  [11  3]\n",
      "  [15 22]\n",
      "  [ 6  7]]\n",
      "\n",
      " [[ 9  6]\n",
      "  [ 6 22]\n",
      "  [ 3  9]\n",
      "  [14 21]]]\n",
      "\n",
      "Array transpuesto en x e y -->  [[[17  7]\n",
      "  [15 13]\n",
      "  [ 9  6]]\n",
      "\n",
      " [[ 4 12]\n",
      "  [11  3]\n",
      "  [ 6 22]]\n",
      "\n",
      " [[24 17]\n",
      "  [15 22]\n",
      "  [ 3  9]]\n",
      "\n",
      " [[ 4  5]\n",
      "  [ 6  7]\n",
      "  [14 21]]]\n"
     ]
    }
   ],
   "source": [
    "array15 = np.random.randint(1,25,(3,4,2))\n",
    "print(\"Array --> \", array15)\n",
    "\n",
    "array15_transpuesto = np.swapaxes(array15, 0, 1)\n",
    "print(\"\\nArray transpuesto en x e y --> \", array15_transpuesto)"
   ]
  },
  {
   "cell_type": "markdown",
   "id": "fcf92586",
   "metadata": {},
   "source": [
    "#### Ejercicio 16 - Genera un array tridimensional de dimensiones (3, 2, 4) con valores enteros del 1 al 24.\n",
    "\n",
    "- Realiza una rotación completa de los ejes para convertir la forma original (3, 2, 4) en (4, 3, 2).\n"
   ]
  },
  {
   "cell_type": "code",
   "execution_count": 51,
   "id": "dd2c7f27",
   "metadata": {},
   "outputs": [
    {
     "name": "stdout",
     "output_type": "stream",
     "text": [
      "Array -->  [[[ 2 11 20  8]\n",
      "  [ 7 17  4  2]]\n",
      "\n",
      " [[11  5 11 11]\n",
      "  [20 14  5  2]]\n",
      "\n",
      " [[18 11  3 16]\n",
      "  [ 4 22 20  7]]]\n",
      "Array tridimensional en formato 4,3,2 -->  [[[ 2  7]\n",
      "  [11 20]\n",
      "  [18  4]]\n",
      "\n",
      " [[11 17]\n",
      "  [ 5 14]\n",
      "  [11 22]]\n",
      "\n",
      " [[20  4]\n",
      "  [11  5]\n",
      "  [ 3 20]]\n",
      "\n",
      " [[ 8  2]\n",
      "  [11  2]\n",
      "  [16  7]]]\n"
     ]
    }
   ],
   "source": [
    "array16 = np.random.randint(1,25,(3,2,4))\n",
    "print(\"Array --> \",array16)\n",
    "\n",
    "array16_transpuesto = np.transpose(array16, (2,0,1))\n",
    "print(\"Array tridimensional en formato 4,3,2 --> \",array16_transpuesto)"
   ]
  },
  {
   "cell_type": "markdown",
   "id": "1795e11f",
   "metadata": {},
   "source": [
    "#### Ejercicio 17 - Manipulación de Arrays en 3D\n",
    "\n",
    "- Crea un array tridimensional con dimensiones (3, 4, 5) cuyos elementos sean números enteros aleatorios entre -10 y 10.\n",
    "\n",
    "- Crea un array vacío con la misma forma y dimensiones que el array creado anteriormente. Luego, reemplaza los valores de la matriz vacía basada en los valores del primer array bajo las siguientes condiciones:\n",
    "\n",
    "   - Si el valor es igual a la mediana, se reemplaza por `\"M\"`.\n",
    "\n",
    "   - Si el valor es mayor que la mediana, se reemplaza por `\"X\"`.\n",
    "\n",
    "   - Si el valor es menor que la mediana, se reemplaza por `\"Y\"`.\n",
    "\n",
    "   - Si el valor es igual al máximo, se reemplaza por `\"MAX\"`.\n",
    "\n",
    "   - Si el valor es igual al mínimo, se reemplaza por `\"MIN\"`.\n"
   ]
  },
  {
   "cell_type": "code",
   "execution_count": 52,
   "id": "d309b397",
   "metadata": {},
   "outputs": [
    {
     "name": "stdout",
     "output_type": "stream",
     "text": [
      "Array -->  [[[ -6  -8   6  -1   5]\n",
      "  [-10   4   0   0   7]\n",
      "  [ -5  -7   7  -7 -10]\n",
      "  [  8   5  -3  -4  -7]]\n",
      "\n",
      " [[  4   1  -7   6  -1]\n",
      "  [  2  -5  -2  -7  -3]\n",
      "  [  1   9  -2 -10  -4]\n",
      "  [ -4   8   5   0   1]]\n",
      "\n",
      " [[  1   2  -6  -3  -1]\n",
      "  [ -2   3  -2   3  -3]\n",
      "  [  0   9   1   1  -4]\n",
      "  [  6   4   9   9   8]]]\n",
      "\n",
      "Array vacio -->  [[[ -7   8   2  -7   1]\n",
      "  [ -6   8  -4  -7  -2]\n",
      "  [  4  -4   9  -4   8]\n",
      "  [  0  -4  -2  -2   0]]\n",
      "\n",
      " [[  9   8  -9  -6  -6]\n",
      "  [  2   2   1   9 -10]\n",
      "  [ -5   8   5  -1   5]\n",
      "  [ -1  -7  -3  -3   5]]\n",
      "\n",
      " [[  2   9   6   5   0]\n",
      "  [  1   5   2 -10   5]\n",
      "  [  0   9  -7   9 -10]\n",
      "  [  1  -6  -4  -8  -8]]]\n",
      "Array vacio [[['Y' 'Y' 'X' 'Y' 'X']\n",
      "  ['Y' 'X' 'M' 'M' 'X']\n",
      "  ['Y' 'Y' 'X' 'Y' 'Y']\n",
      "  ['X' 'X' 'Y' 'Y' 'Y']]\n",
      "\n",
      " [['X' 'X' 'Y' 'X' 'Y']\n",
      "  ['X' 'Y' 'Y' 'Y' 'Y']\n",
      "  ['X' 'X' 'Y' 'Y' 'Y']\n",
      "  ['Y' 'X' 'X' 'M' 'X']]\n",
      "\n",
      " [['X' 'X' 'Y' 'Y' 'Y']\n",
      "  ['Y' 'X' 'Y' 'X' 'Y']\n",
      "  ['M' 'X' 'X' 'X' 'Y']\n",
      "  ['X' 'X' 'X' 'X' 'X']]]\n"
     ]
    }
   ],
   "source": [
    "array17 = np.random.randint(-10,10, size=(3,4,5))\n",
    "print(\"Array --> \", array17)\n",
    "\n",
    "array_vacio = np.empty_like(array17)\n",
    "print(\"\\nArray vacio --> \", array_vacio)\n",
    "\n",
    "mediana = np.median(array17)\n",
    "maximo = np.max(array17)\n",
    "minimo = np.min(array17)\n",
    "\n",
    "array_vacio = np.empty(array17.shape, dtype=str)\n",
    "\n",
    "array_vacio[(array17 == maximo)] = \"MAX\"\n",
    "array_vacio[(array17 == minimo)] = \"MIN\"\n",
    "array_vacio[(array17 == mediana)] = \"M\"\n",
    "array_vacio[(array17 > mediana)] = \"X\"\n",
    "array_vacio[(array17 < mediana)] = \"Y\"\n",
    "\n",
    "print(\"Array vacio\", array_vacio)"
   ]
  },
  {
   "cell_type": "markdown",
   "id": "83794704",
   "metadata": {},
   "source": [
    "#### Ejercicio 18 - Verificación de Filas y Columnas Iguales\n",
    "\n",
    "Crea un array bidimensional de dimensiones 4x4, escribe un código para determinar si alguna fila es exactamente igual a alguna columna.\n",
    "\n",
    "**Reglas:**\n",
    "\n",
    "- No puedes usar funciones predefinidas de NumPy para comparar filas y columnas (`np.array_equal`, etc.).\n",
    "\n",
    "- Debes resolverlo con estructuras básicas de Python (bucles, condicionales, etc.).\n",
    "\n",
    "- Debes revisar si hay al menos una fila que coincida exactamente con alguna columna.\n",
    "\n",
    "**Pistas**:\n",
    "\n",
    "- Puedes recorrer cada fila y cada columna de la matriz usando bucles.\n",
    "\n",
    "- Para comparar una fila con una columna, puedes hacerlo elemento por elemento."
   ]
  },
  {
   "cell_type": "code",
   "execution_count": 53,
   "id": "afd51c60",
   "metadata": {},
   "outputs": [
    {
     "name": "stdout",
     "output_type": "stream",
     "text": [
      "Matriz\n",
      "[[ 1  2  3  4]\n",
      " [ 2  6  7  8]\n",
      " [ 3 10 11 12]\n",
      " [ 4  6 11 16]]\n",
      "Fila 0 es igual a la columna 0.\n"
     ]
    }
   ],
   "source": [
    "matriz = np.array([[1, 2, 3, 4],\n",
    "                   [2, 6, 7, 8],\n",
    "                   [3, 10, 11, 12],\n",
    "                   [4, 6, 11, 16]])\n",
    "\n",
    "print(\"Matriz\")\n",
    "print(matriz)\n",
    "\n",
    "\n",
    "coincidencia_encontrada = False\n",
    "\n",
    "for i in range(4):\n",
    "    for j in range(4):\n",
    "        son_iguales = True\n",
    "        for k in range(4):\n",
    "            if matriz[i, k] != matriz[k, j]:\n",
    "                son_iguales = False\n",
    "                break\n",
    "        \n",
    "        if son_iguales:\n",
    "            coincidencia_encontrada = True\n",
    "            print(f\"Fila {i} es igual a la columna {j}.\")\n",
    "            break\n",
    "    if coincidencia_encontrada:\n",
    "        break\n",
    "\n",
    "if not coincidencia_encontrada:\n",
    "    print(\"No se encontró ninguna fila que coincida con una columna.\")\n"
   ]
  }
 ],
 "metadata": {
  "kernelspec": {
   "display_name": "Python 3",
   "language": "python",
   "name": "python3"
  },
  "language_info": {
   "codemirror_mode": {
    "name": "ipython",
    "version": 3
   },
   "file_extension": ".py",
   "mimetype": "text/x-python",
   "name": "python",
   "nbconvert_exporter": "python",
   "pygments_lexer": "ipython3",
   "version": "3.12.4"
  }
 },
 "nbformat": 4,
 "nbformat_minor": 5
}
